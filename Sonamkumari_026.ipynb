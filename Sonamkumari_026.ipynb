{
 "cells": [
  {
   "cell_type": "markdown",
   "id": "060f53a1-35b0-4e4a-b3a1-7eab5db32d8c",
   "metadata": {},
   "source": [
    "WAP to check if the first element of the list is greater than 25?"
   ]
  },
  {
   "cell_type": "code",
   "execution_count": 1,
   "id": "08dedd00-3197-4ce8-8d45-b16aea97f5dd",
   "metadata": {},
   "outputs": [
    {
     "name": "stdout",
     "output_type": "stream",
     "text": [
      "First element is small\n"
     ]
    }
   ],
   "source": [
    "numbers = [10, 20, 30, 40]\n",
    "\n",
    "if numbers[0] > 25:\n",
    "    print(\"First element is large\")\n",
    "else:\n",
    "    print(\"First element is small\")\n"
   ]
  },
  {
   "cell_type": "markdown",
   "id": "cbb8fa28-24ee-4372-b0aa-848068fec0df",
   "metadata": {},
   "source": [
    "WAP that creates a new list. For each score in the original list, if the score is greater than or equal to 50, add \"Pass\" to the new list. If it's less than 50, add \"Fail\"?"
   ]
  },
  {
   "cell_type": "code",
   "execution_count": 2,
   "id": "e2f6b08e-4da7-49bf-9ddd-1ddcca46645a",
   "metadata": {},
   "outputs": [
    {
     "name": "stdout",
     "output_type": "stream",
     "text": [
      "['Fail', 'Pass', 'Pass', 'Pass', 'Pass', 'Fail']\n"
     ]
    }
   ],
   "source": [
    "scores = [45, 67, 89, 92, 54, 31]\n",
    "result = []\n",
    "\n",
    "for score in scores:\n",
    "    if score >= 50:\n",
    "        result.append(\"Pass\")\n",
    "    else:\n",
    "        result.append(\"Fail\")\n",
    "\n",
    "print(result)"
   ]
  },
  {
   "cell_type": "markdown",
   "id": "ede0dcd8-887f-45bb-8fdd-540132526536",
   "metadata": {},
   "source": [
    "Check wheather the item is on the list?"
   ]
  },
  {
   "cell_type": "code",
   "execution_count": 4,
   "id": "0100c1a1-697a-4bdc-9102-ee57fef49928",
   "metadata": {},
   "outputs": [
    {
     "name": "stdin",
     "output_type": "stream",
     "text": [
      "Enter your favorite fruit:  mango\n"
     ]
    },
    {
     "name": "stdout",
     "output_type": "stream",
     "text": [
      "Yes, mango is in the list.\n"
     ]
    }
   ],
   "source": [
    "fruits = ['apple', 'banana', 'mango', 'grape']\n",
    "fav = input(\"Enter your favorite fruit: \")\n",
    "\n",
    "if fav.lower() in fruits:\n",
    "    print(f\"Yes, {fav} is in the list.\")\n",
    "else:\n",
    "    print(f\"Sorry, {fav} is not in the list.\")\n"
   ]
  },
  {
   "cell_type": "markdown",
   "id": "30af9416-1291-4a06-a9e0-309968c4a6d8",
   "metadata": {},
   "source": [
    "write a program that calculates the sum of only the positive numbers in the list. Use a loop and an if statement?"
   ]
  },
  {
   "cell_type": "code",
   "execution_count": 5,
   "id": "02bc7299-446b-4f45-a79b-8f41ea2a4b20",
   "metadata": {},
   "outputs": [
    {
     "name": "stdout",
     "output_type": "stream",
     "text": [
      "Sum of positive numbers: 15\n"
     ]
    }
   ],
   "source": [
    "values = [1, -2, 3, -4, 5, 6]\n",
    "sum_positive = 0\n",
    "\n",
    "for num in values:\n",
    "    if num > 0:\n",
    "        sum_positive += num\n",
    "\n",
    "print(\"Sum of positive numbers:\", sum_positive)\n"
   ]
  },
  {
   "cell_type": "markdown",
   "id": "16f0d7c9-005f-444c-840a-0269d5afef84",
   "metadata": {},
   "source": [
    "Find the largest number in the list that is less than 500. Print the number. If no number is found, print \"No valid number found\"?"
   ]
  },
  {
   "cell_type": "code",
   "execution_count": 6,
   "id": "fdbb2e0f-edcd-4099-ac42-5abe650301ac",
   "metadata": {},
   "outputs": [
    {
     "name": "stdout",
     "output_type": "stream",
     "text": [
      "Largest number less than 500: 330\n"
     ]
    }
   ],
   "source": [
    "data = [120, 330, 40, 550, 60]\n",
    "max_val = None\n",
    "\n",
    "for num in data:\n",
    "    if num < 500:\n",
    "        if max_val is None or num > max_val:\n",
    "            max_val = num\n",
    "\n",
    "if max_val is not None:\n",
    "    print(\"Largest number less than 500:\", max_val)\n",
    "else:\n",
    "    print(\"No valid number found\")\n"
   ]
  },
  {
   "cell_type": "markdown",
   "id": "0293aa5a-2f2e-4683-afe5-1d50e6edd827",
   "metadata": {},
   "source": [
    "Write a program that separates this list into two new lists: one for integers and one for strings. Ignore any other data types?"
   ]
  },
  {
   "cell_type": "code",
   "execution_count": 7,
   "id": "d6465816-8742-4875-892d-999b47cdf4a7",
   "metadata": {},
   "outputs": [
    {
     "name": "stdout",
     "output_type": "stream",
     "text": [
      "Integers: [12, 33, 100]\n",
      "Strings: ['hello', 'world']\n"
     ]
    }
   ],
   "source": [
    "mixed = [12, 'hello', 33, 'world', 7.5, 100]\n",
    "integers = []\n",
    "strings = []\n",
    "\n",
    "for item in mixed:\n",
    "    if isinstance(item, int):\n",
    "        integers.append(item)\n",
    "    elif isinstance(item, str):\n",
    "        strings.append(item)\n",
    "\n",
    "print(\"Integers:\", integers)\n",
    "print(\"Strings:\", strings)\n"
   ]
  },
  {
   "cell_type": "markdown",
   "id": "bff77b8e-da55-4a8f-9758-11fdfa4dbec4",
   "metadata": {},
   "source": [
    "Check if the index is valid for the list. If it is, check if the element at that index is even. Print \"Valid index, even number\", \"Valid index, odd number\", or \"Invalid index\" based on the checks?"
   ]
  },
  {
   "cell_type": "code",
   "execution_count": 8,
   "id": "a50f9a90-c1c9-4c0e-bd22-7e1affa35d78",
   "metadata": {},
   "outputs": [
    {
     "name": "stdin",
     "output_type": "stream",
     "text": [
      "Enter an index:  2\n"
     ]
    },
    {
     "name": "stdout",
     "output_type": "stream",
     "text": [
      "Valid index, even number\n"
     ]
    }
   ],
   "source": [
    "my_list = [10, 20, 30, 40, 50]\n",
    "index = int(input(\"Enter an index: \"))\n",
    "\n",
    "if 0 <= index < len(my_list):\n",
    "    if my_list[index] % 2 == 0:\n",
    "        print(\"Valid index, even number\")\n",
    "    else:\n",
    "        print(\"Valid index, odd number\")\n",
    "else:\n",
    "    print(\"Invalid index\")\n"
   ]
  },
  {
   "cell_type": "markdown",
   "id": "5b7ba376-29c4-47b7-8b8b-a67c89fe5d64",
   "metadata": {},
   "source": [
    "This list has some faulty readings (any temperature below 0 or above 100 is faulty). Create a new list that contains only the valid temperatures?"
   ]
  },
  {
   "cell_type": "code",
   "execution_count": 9,
   "id": "b2a77139-427a-4398-93a3-c770d59d7347",
   "metadata": {},
   "outputs": [
    {
     "name": "stdout",
     "output_type": "stream",
     "text": [
      "Valid temperatures: [25, 30, 28, 16, 99]\n"
     ]
    }
   ],
   "source": [
    "temperatures = [25, 30, 105, 28, 16, -5, 99]\n",
    "valid_temperatures = []\n",
    "\n",
    "for temp in temperatures:\n",
    "    if 0 <= temp <= 100:\n",
    "        valid_temperatures.append(temp)\n",
    "\n",
    "print(\"Valid temperatures:\", valid_temperatures)\n"
   ]
  },
  {
   "cell_type": "markdown",
   "id": "ee8e9c4b-cecf-4e14-8581-68dcbb806f7e",
   "metadata": {},
   "source": [
    "Ask the user for a name to search for. If you find the name, print its position (index) in the list. If you don't find it, print \"Name not found\"?"
   ]
  },
  {
   "cell_type": "code",
   "execution_count": 10,
   "id": "bec1d896-38cf-42ad-9677-1d8b1b688cf1",
   "metadata": {},
   "outputs": [
    {
     "name": "stdin",
     "output_type": "stream",
     "text": [
      "Enter a name to search:  Alice\n"
     ]
    },
    {
     "name": "stdout",
     "output_type": "stream",
     "text": [
      "Position (index): 0\n"
     ]
    }
   ],
   "source": [
    "names = ['Alice', 'Bob', 'Charlie', 'Diana']\n",
    "search_name = input(\"Enter a name to search: \")\n",
    "\n",
    "if search_name in names:\n",
    "    print(\"Position (index):\", names.index(search_name))\n",
    "else:\n",
    "    print(\"Name not found\")\n"
   ]
  },
  {
   "cell_type": "markdown",
   "id": "dfb18efb-b7a3-4c2e-8555-5ad6338bcb8b",
   "metadata": {},
   "source": [
    "write a program that finds and prints all numbers in the list that are both greater than 10 and divisible by 3?"
   ]
  },
  {
   "cell_type": "code",
   "execution_count": 11,
   "id": "f555f0b1-44d7-4880-8a4c-dfcb713ddb59",
   "metadata": {},
   "outputs": [
    {
     "name": "stdout",
     "output_type": "stream",
     "text": [
      "Numbers greater than 10 and divisible by 3: [15, 36, 12, 18]\n"
     ]
    }
   ],
   "source": [
    "numbers = [15, 7, 22, 9, 36, 12, 18]\n",
    "result = []\n",
    "\n",
    "for num in numbers:\n",
    "    if num > 10 and num % 3 == 0:\n",
    "        result.append(num)\n",
    "\n",
    "print(\"Numbers greater than 10 and divisible by 3:\", result)\n"
   ]
  },
  {
   "cell_type": "code",
   "execution_count": null,
   "id": "91bb6e9b-4d31-4d32-9f4b-a89a5e135030",
   "metadata": {},
   "outputs": [],
   "source": []
  }
 ],
 "metadata": {
  "kernelspec": {
   "display_name": "Python [conda env:base] *",
   "language": "python",
   "name": "conda-base-py"
  },
  "language_info": {
   "codemirror_mode": {
    "name": "ipython",
    "version": 3
   },
   "file_extension": ".py",
   "mimetype": "text/x-python",
   "name": "python",
   "nbconvert_exporter": "python",
   "pygments_lexer": "ipython3",
   "version": "3.13.5"
  }
 },
 "nbformat": 4,
 "nbformat_minor": 5
}
